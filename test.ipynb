{
 "cells": [
  {
   "cell_type": "code",
   "execution_count": 2,
   "metadata": {},
   "outputs": [],
   "source": [
    "import random\n",
    "import time\n",
    "import pandas as pd\n",
    "from bs4 import BeautifulSoup\n",
    "from datetime import datetime\n",
    "from selenium import webdriver\n",
    "from multiprocessing import Pool\n",
    "from selenium.webdriver.common.by import By\n",
    "from selenium.webdriver.firefox.options import Options\n"
   ]
  },
  {
   "cell_type": "code",
   "execution_count": 33,
   "metadata": {},
   "outputs": [
    {
     "data": {
      "text/plain": [
       "(369, 2)"
      ]
     },
     "execution_count": 33,
     "metadata": {},
     "output_type": "execute_result"
    }
   ],
   "source": [
    "# read csv\n",
    "df_fm = pd.read_csv('full_match_df.csv')\n",
    "# dataframe with unique skill_id\n",
    "df_fm_unique = df_fm.drop_duplicates(subset=['skill_id'])\n",
    "df_fm_unique.shape"
   ]
  },
  {
   "cell_type": "code",
   "execution_count": 34,
   "metadata": {},
   "outputs": [
    {
     "data": {
      "text/plain": [
       "(386, 2)"
      ]
     },
     "execution_count": 34,
     "metadata": {},
     "output_type": "execute_result"
    }
   ],
   "source": [
    "df_ng = pd.read_csv('ngram_df.csv')\n",
    "df_ng_unique = df_ng.drop_duplicates(subset=['skill_id'])\n",
    "df_ng_unique.shape\n"
   ]
  },
  {
   "cell_type": "code",
   "execution_count": 35,
   "metadata": {},
   "outputs": [
    {
     "data": {
      "text/plain": [
       "(386, 2)"
      ]
     },
     "execution_count": 35,
     "metadata": {},
     "output_type": "execute_result"
    }
   ],
   "source": [
    "# add both dfs\n",
    "df = pd.concat([df_fm_unique, df_ng_unique])\n",
    "df = df.drop_duplicates(subset=['skill_id'])\n",
    "df.shape"
   ]
  },
  {
   "cell_type": "code",
   "execution_count": 40,
   "metadata": {},
   "outputs": [
    {
     "data": {
      "text/html": [
       "<div>\n",
       "<style scoped>\n",
       "    .dataframe tbody tr th:only-of-type {\n",
       "        vertical-align: middle;\n",
       "    }\n",
       "\n",
       "    .dataframe tbody tr th {\n",
       "        vertical-align: top;\n",
       "    }\n",
       "\n",
       "    .dataframe thead th {\n",
       "        text-align: right;\n",
       "    }\n",
       "</style>\n",
       "<table border=\"1\" class=\"dataframe\">\n",
       "  <thead>\n",
       "    <tr style=\"text-align: right;\">\n",
       "      <th></th>\n",
       "      <th>skill_id</th>\n",
       "      <th>doc_node_value</th>\n",
       "    </tr>\n",
       "  </thead>\n",
       "  <tbody>\n",
       "    <tr>\n",
       "      <th>22</th>\n",
       "      <td>KS122PF6FZS3609GDG0V</td>\n",
       "      <td>ETL</td>\n",
       "    </tr>\n",
       "    <tr>\n",
       "      <th>23</th>\n",
       "      <td>KS125BW74QLLYL9MMFR3</td>\n",
       "      <td>San</td>\n",
       "    </tr>\n",
       "    <tr>\n",
       "      <th>25</th>\n",
       "      <td>KS7G7K873Z87GNGYHQKB</td>\n",
       "      <td>com</td>\n",
       "    </tr>\n",
       "    <tr>\n",
       "      <th>34</th>\n",
       "      <td>ESC7869CF7378283E0AA</td>\n",
       "      <td>GCP</td>\n",
       "    </tr>\n",
       "    <tr>\n",
       "      <th>51</th>\n",
       "      <td>KS1208P6ZMZ4N872Y7X5</td>\n",
       "      <td>API</td>\n",
       "    </tr>\n",
       "    <tr>\n",
       "      <th>181</th>\n",
       "      <td>ES95B6F9FEB492CE923D</td>\n",
       "      <td>act</td>\n",
       "    </tr>\n",
       "    <tr>\n",
       "      <th>185</th>\n",
       "      <td>KS1242W68Y5QN3S32W3C</td>\n",
       "      <td>case</td>\n",
       "    </tr>\n",
       "    <tr>\n",
       "      <th>205</th>\n",
       "      <td>KS127BB5X2N6CHD4LKQZ</td>\n",
       "      <td>IDE</td>\n",
       "    </tr>\n",
       "    <tr>\n",
       "      <th>207</th>\n",
       "      <td>KS7G2N26Y8MHXH3YKFTS</td>\n",
       "      <td>EDA</td>\n",
       "    </tr>\n",
       "    <tr>\n",
       "      <th>315</th>\n",
       "      <td>KS4NKXC90M22JM53MO6D</td>\n",
       "      <td>EMR</td>\n",
       "    </tr>\n",
       "    <tr>\n",
       "      <th>466</th>\n",
       "      <td>KS123YB6R39YVSFY1SKX</td>\n",
       "      <td>fix</td>\n",
       "    </tr>\n",
       "    <tr>\n",
       "      <th>488</th>\n",
       "      <td>KS122GV66N1RCXQPPYS5</td>\n",
       "      <td>CPT</td>\n",
       "    </tr>\n",
       "    <tr>\n",
       "      <th>533</th>\n",
       "      <td>KS84HIMR36V633XYJN41</td>\n",
       "      <td>sci</td>\n",
       "    </tr>\n",
       "    <tr>\n",
       "      <th>534</th>\n",
       "      <td>KSON1G92ZK13FWTOZ1OT</td>\n",
       "      <td>RNN</td>\n",
       "    </tr>\n",
       "    <tr>\n",
       "      <th>577</th>\n",
       "      <td>KSKILLO50UIM0419A5FA</td>\n",
       "      <td>BPM</td>\n",
       "    </tr>\n",
       "    <tr>\n",
       "      <th>578</th>\n",
       "      <td>KS4425S60HLS47WM5KTP</td>\n",
       "      <td>OSI</td>\n",
       "    </tr>\n",
       "    <tr>\n",
       "      <th>595</th>\n",
       "      <td>KS120M86QF6X6S7QP3GG</td>\n",
       "      <td>GIS</td>\n",
       "    </tr>\n",
       "    <tr>\n",
       "      <th>640</th>\n",
       "      <td>KS1219N6Z3XQ19V0HSKR</td>\n",
       "      <td>c #</td>\n",
       "    </tr>\n",
       "    <tr>\n",
       "      <th>756</th>\n",
       "      <td>KS124X55Z4BZ4JXB22XM</td>\n",
       "      <td>ARM</td>\n",
       "    </tr>\n",
       "    <tr>\n",
       "      <th>779</th>\n",
       "      <td>KS4427C77PRBT3948VNB</td>\n",
       "      <td>XML</td>\n",
       "    </tr>\n",
       "    <tr>\n",
       "      <th>780</th>\n",
       "      <td>KS120M36164Y2LMZ1NKC</td>\n",
       "      <td>OCR</td>\n",
       "    </tr>\n",
       "    <tr>\n",
       "      <th>888</th>\n",
       "      <td>KS1206865S68KXZ3RG0C</td>\n",
       "      <td>ASA</td>\n",
       "    </tr>\n",
       "    <tr>\n",
       "      <th>995</th>\n",
       "      <td>ESA07D21A5578570F177</td>\n",
       "      <td>CRM</td>\n",
       "    </tr>\n",
       "    <tr>\n",
       "      <th>1113</th>\n",
       "      <td>KS124ZM6BB7FXKH1WH60</td>\n",
       "      <td>ICD</td>\n",
       "    </tr>\n",
       "    <tr>\n",
       "      <th>1173</th>\n",
       "      <td>KS440W865GC4VRBW6LJP</td>\n",
       "      <td>sql</td>\n",
       "    </tr>\n",
       "    <tr>\n",
       "      <th>1175</th>\n",
       "      <td>KS124DQ6JX0NX9DBFDM8</td>\n",
       "      <td>r</td>\n",
       "    </tr>\n",
       "  </tbody>\n",
       "</table>\n",
       "</div>"
      ],
      "text/plain": [
       "                  skill_id doc_node_value\n",
       "22    KS122PF6FZS3609GDG0V            ETL\n",
       "23    KS125BW74QLLYL9MMFR3            San\n",
       "25    KS7G7K873Z87GNGYHQKB            com\n",
       "34    ESC7869CF7378283E0AA            GCP\n",
       "51    KS1208P6ZMZ4N872Y7X5            API\n",
       "181   ES95B6F9FEB492CE923D            act\n",
       "185   KS1242W68Y5QN3S32W3C           case\n",
       "205   KS127BB5X2N6CHD4LKQZ            IDE\n",
       "207   KS7G2N26Y8MHXH3YKFTS            EDA\n",
       "315   KS4NKXC90M22JM53MO6D            EMR\n",
       "466   KS123YB6R39YVSFY1SKX            fix\n",
       "488   KS122GV66N1RCXQPPYS5            CPT\n",
       "533   KS84HIMR36V633XYJN41            sci\n",
       "534   KSON1G92ZK13FWTOZ1OT            RNN\n",
       "577   KSKILLO50UIM0419A5FA            BPM\n",
       "578   KS4425S60HLS47WM5KTP            OSI\n",
       "595   KS120M86QF6X6S7QP3GG            GIS\n",
       "640   KS1219N6Z3XQ19V0HSKR            c #\n",
       "756   KS124X55Z4BZ4JXB22XM            ARM\n",
       "779   KS4427C77PRBT3948VNB            XML\n",
       "780   KS120M36164Y2LMZ1NKC            OCR\n",
       "888   KS1206865S68KXZ3RG0C            ASA\n",
       "995   ESA07D21A5578570F177            CRM\n",
       "1113  KS124ZM6BB7FXKH1WH60            ICD\n",
       "1173  KS440W865GC4VRBW6LJP            sql\n",
       "1175  KS124DQ6JX0NX9DBFDM8              r"
      ]
     },
     "execution_count": 40,
     "metadata": {},
     "output_type": "execute_result"
    }
   ],
   "source": [
    "# df with rows in doc_node_value column with 4 or less characters\n",
    "df_new = df[df['doc_node_value'].str.len() <= 4]\n",
    "df_new.shape\n",
    "df_new"
   ]
  },
  {
   "cell_type": "code",
   "execution_count": null,
   "metadata": {},
   "outputs": [],
   "source": []
  }
 ],
 "metadata": {
  "kernelspec": {
   "display_name": "Python 3.10.4 64-bit",
   "language": "python",
   "name": "python3"
  },
  "language_info": {
   "codemirror_mode": {
    "name": "ipython",
    "version": 3
   },
   "file_extension": ".py",
   "mimetype": "text/x-python",
   "name": "python",
   "nbconvert_exporter": "python",
   "pygments_lexer": "ipython3",
   "version": "3.10.4"
  },
  "orig_nbformat": 4,
  "vscode": {
   "interpreter": {
    "hash": "369f2c481f4da34e4445cda3fffd2e751bd1c4d706f27375911949ba6bb62e1c"
   }
  }
 },
 "nbformat": 4,
 "nbformat_minor": 2
}
